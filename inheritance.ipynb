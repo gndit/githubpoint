{
 "cells": [
  {
   "cell_type": "code",
   "execution_count": 5,
   "metadata": {},
   "outputs": [
    {
     "name": "stdout",
     "output_type": "stream",
     "text": [
      "atul False\n",
      "atul86 True\n"
     ]
    }
   ],
   "source": [
    "class Person(object):\n",
    "    #constructor\n",
    "    def __init__(self, name):\n",
    "        self.name = name\n",
    "    \n",
    "    #to get  name\n",
    "    def getname(self):\n",
    "        return self.name\n",
    "    \n",
    "    #to check if this person is employee\n",
    "    def isemployee(self):\n",
    "        return False\n",
    "    \n",
    "    \n",
    "#inherited the subclasses\n",
    "class Employee(Person):\n",
    "    #here we return true\n",
    "    def isemployee(self):\n",
    "        return True\n",
    "    \n",
    "#Driver code\n",
    "emp = Person(\"atul\")#an object of person\n",
    "print(emp.getname(),emp.isemployee())\n",
    "\n",
    "emp = Employee(\"atul86\")#an object of employee class\n",
    "print(emp.getname(),emp.isemployee())"
   ]
  },
  {
   "cell_type": "code",
   "execution_count": 10,
   "metadata": {},
   "outputs": [
    {
     "name": "stdout",
     "output_type": "stream",
     "text": [
      "True\n",
      "False\n",
      "False\n",
      "True\n",
      "True\n"
     ]
    }
   ],
   "source": [
    "\n",
    "#check if class is a subclass of another\n",
    "class Base(object):\n",
    "    pass #Empty class\n",
    "\n",
    "class derived(Base):\n",
    "    pass #Empty class\n",
    "\n",
    "#Driver code\n",
    "print(issubclass(derived,Base))\n",
    "print(issubclass(Base,derived))\n",
    "\n",
    "d = derived()\n",
    "b = Base()\n",
    "\n",
    "#b is not an instance of derived\n",
    "print(isinstance(b,derived))\n",
    " \n",
    "#but d is an instance of derived and base both\n",
    "print(isinstance(d,Base))\n",
    "print(isinstance(d,derived))\n"
   ]
  },
  {
   "cell_type": "code",
   "execution_count": 27,
   "metadata": {},
   "outputs": [
    {
     "name": "stdout",
     "output_type": "stream",
     "text": [
      "Base1\n",
      "Base2\n",
      "Derived\n",
      "atul Atul\n"
     ]
    }
   ],
   "source": [
    "\n",
    "# working of multiple  \n",
    "# inheritance \n",
    "class Base1(object): \n",
    "    def __init__(self): \n",
    "        self.str1 = \"atul\"\n",
    "        print (\"Base1\")\n",
    "  \n",
    "class Base2(object): \n",
    "    def __init__(self): \n",
    "        self.str2 = \"Atul\"        \n",
    "        print (\"Base2\")\n",
    "  \n",
    "class Derived(Base1, Base2): \n",
    "    def __init__(self): \n",
    "          \n",
    "        # Calling constructors of Base1 \n",
    "        # and Base2 classes \n",
    "        Base1.__init__(self) \n",
    "        Base2.__init__(self) \n",
    "        print (\"Derived\")\n",
    "          \n",
    "    def printStrs(self): \n",
    "        print(self.str1, self.str2) \n",
    "         \n",
    "  \n",
    "ob = Derived() \n",
    "ob.printStrs() \n"
   ]
  },
  {
   "cell_type": "code",
   "execution_count": 21,
   "metadata": {},
   "outputs": [
    {
     "name": "stdout",
     "output_type": "stream",
     "text": [
      "101 13\n"
     ]
    }
   ],
   "source": [
    "#using parent class name\n",
    "# class members can be accessed in \n",
    "# derived class using base class name \n",
    "class Base(object): \n",
    "\n",
    "    # Constructor \n",
    "    def __init__(self, x): \n",
    "        self.x = x \n",
    "\n",
    "class Derived(Base): \n",
    "\n",
    "    # Constructor \n",
    "    def __init__(self, x, y): \n",
    "        Base.x = x \n",
    "        self.y = y \n",
    "\n",
    "    def printXY(self): \n",
    "\n",
    "# print(self.x, self.y) will also work \n",
    "         print(Base.x, self.y) \n",
    "\n",
    "\n",
    "# Driver Code \n",
    "d = Derived(101, 13) \n",
    "d.printXY() \n"
   ]
  },
  {
   "cell_type": "code",
   "execution_count": 23,
   "metadata": {},
   "outputs": [
    {
     "name": "stdout",
     "output_type": "stream",
     "text": [
      "10 20\n"
     ]
    }
   ],
   "source": [
    "#using super\n",
    " \n",
    "# class members can be accessed in \n",
    "# derived class using super() \n",
    "class Base(object): \n",
    "  \n",
    "    # Constructor \n",
    "    def __init__(self, x): \n",
    "        self.x = x     \n",
    "  \n",
    "class Derived(Base): \n",
    "  \n",
    "    # Constructor \n",
    "    def __init__(self, x, y): \n",
    "          \n",
    "        ''' In Python 3.x, \"super().__init__(name)\" \n",
    "            also works''' \n",
    "        super(Derived, self).__init__(x) \n",
    "        self.y = y \n",
    "  \n",
    "    def printXY(self): \n",
    "  \n",
    "       # Note that Base.x won't work here \n",
    "       # because super() is used in constructor \n",
    "       print(self.x, self.y) \n",
    "  \n",
    "  \n",
    "# Driver Code \n",
    "d = Derived(10, 20) \n",
    "d.printXY() \n"
   ]
  },
  {
   "cell_type": "code",
   "execution_count": 22,
   "metadata": {},
   "outputs": [
    {
     "name": "stdout",
     "output_type": "stream",
     "text": [
      "4\n",
      "8\n",
      "24\n"
     ]
    }
   ],
   "source": [
    "#\n",
    "\n",
    "class X(object): \n",
    "    def __init__(self,a): \n",
    "        self.num = a \n",
    "    def doubleup(self): \n",
    "        self.num *= 2\n",
    "  \n",
    "class Y(X): \n",
    "    def __init__(self,a): \n",
    "        X.__init__(self, a) \n",
    "    def tripleup(self): \n",
    "        self.num *= 3\n",
    "  \n",
    "obj = Y(4) \n",
    "print(obj.num) \n",
    "  \n",
    "obj.doubleup() \n",
    "print(obj.num) \n",
    "  \n",
    "obj.tripleup() \n",
    "print(obj.num) "
   ]
  },
  {
   "cell_type": "code",
   "execution_count": 26,
   "metadata": {},
   "outputs": [
    {
     "name": "stdout",
     "output_type": "stream",
     "text": [
      "Atul True E101\n"
     ]
    }
   ],
   "source": [
    "\n",
    "\n",
    "# Base or Super class \n",
    "class Person(object): \n",
    "    def __init__(self, name): \n",
    "        self.name = name \n",
    "          \n",
    "    def getName(self): \n",
    "        return self.name \n",
    "      \n",
    "    def isEmployee(self): \n",
    "        return False\n",
    "  \n",
    "# Inherited or Subclass (Note Person in bracket) \n",
    "class Employee(Person): \n",
    "    def __init__(self, name, eid): \n",
    "  \n",
    "        ''' In Python 3.0+, \"super().__init__(name)\" \n",
    "            also works''' \n",
    "        super(Employee, self).__init__(name) \n",
    "        self.empID = eid \n",
    "          \n",
    "    def isEmployee(self): \n",
    "        return True\n",
    "          \n",
    "    def getID(self): \n",
    "        return self.empID \n",
    "  \n",
    "# Driver code \n",
    "emp = Employee(\"Atul\", \"E101\")  \n",
    "print(emp.getName(), emp.isEmployee(), emp.getID()) \n"
   ]
  }
 ],
 "metadata": {
  "kernelspec": {
   "display_name": "Python 3",
   "language": "python",
   "name": "python3"
  },
  "language_info": {
   "codemirror_mode": {
    "name": "ipython",
    "version": 3
   },
   "file_extension": ".py",
   "mimetype": "text/x-python",
   "name": "python",
   "nbconvert_exporter": "python",
   "pygments_lexer": "ipython3",
   "version": "3.7.0"
  }
 },
 "nbformat": 4,
 "nbformat_minor": 2
}
