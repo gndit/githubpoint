{
 "cells": [
  {
   "cell_type": "code",
   "execution_count": 12,
   "metadata": {},
   "outputs": [
    {
     "name": "stdout",
     "output_type": "stream",
     "text": [
      "enter num112\n",
      "enter num232\n",
      "sum of two num is =  44\n"
     ]
    }
   ],
   "source": [
    "# takes nothing return nothing\n",
    "def sum():\n",
    "    v1 = int(input(\"enter num1 \"))\n",
    "    v2 = int(input(\"enter num2 \"))\n",
    "    v3 = v1 + v2\n",
    "    print(\"sum of two num is = \",v3)\n",
    "sum()\n",
    "    \n",
    "    "
   ]
  },
  {
   "cell_type": "code",
   "execution_count": 41,
   "metadata": {},
   "outputs": [
    {
     "name": "stdout",
     "output_type": "stream",
     "text": [
      "1. square is = 1 and qube is = 1\n",
      "2. square is = 4 and qube is = 8\n",
      "3. square is = 9 and qube is = 27\n",
      "4. square is = 16 and qube is = 64\n",
      "5. square is = 25 and qube is = 125\n",
      "6. square is = 36 and qube is = 216\n",
      "7. square is = 49 and qube is = 343\n",
      "8. square is = 64 and qube is = 512\n",
      "9. square is = 81 and qube is = 729\n",
      "10. square is = 100 and qube is = 1000\n",
      "11. square is = 121 and qube is = 1331\n"
     ]
    }
   ],
   "source": [
    "#loping\n",
    "for i in range(1,12):\n",
    "    print(f\"{i}. square is = {i**2} and qube is = {i**3}\")"
   ]
  },
  {
   "cell_type": "code",
   "execution_count": 33,
   "metadata": {},
   "outputs": [
    {
     "name": "stdout",
     "output_type": "stream",
     "text": [
      "enter first num =13\n",
      "enter second num =3\n",
      "subtraction is = 10\n"
     ]
    }
   ],
   "source": [
    "#takes nothing return something\n",
    "def sub():\n",
    "    v1 = int(input(\"enter first num =\"))\n",
    "    v2 = int(input(\"enter second num =\"))\n",
    "    v3 = v1 - v2\n",
    "    return v3\n",
    "v4 = sub()\n",
    "print(\"subtraction is =\",v4)\n",
    "\n",
    "    \n"
   ]
  },
  {
   "cell_type": "code",
   "execution_count": 25,
   "metadata": {},
   "outputs": [
    {
     "name": "stdout",
     "output_type": "stream",
     "text": [
      "multiplication is = 24\n"
     ]
    }
   ],
   "source": [
    "#takes somthing return nothing\n",
    "def multi(a,b):\n",
    "    c = a * b\n",
    "    print(\"multiplication is =\",c)\n",
    "multi(12,2)"
   ]
  },
  {
   "cell_type": "code",
   "execution_count": 32,
   "metadata": {},
   "outputs": [
    {
     "name": "stdout",
     "output_type": "stream",
     "text": [
      "division is = 6.0\n"
     ]
    }
   ],
   "source": [
    "#takes something return something\n",
    "def divide(a,b):\n",
    "    c = a/b\n",
    "    return c\n",
    "out = divide(12,2)\n",
    "print(\"division is =\",out)\n",
    "\n",
    "\n",
    "    "
   ]
  }
 ],
 "metadata": {
  "kernelspec": {
   "display_name": "Python 3",
   "language": "python",
   "name": "python3"
  },
  "language_info": {
   "codemirror_mode": {
    "name": "ipython",
    "version": 3
   },
   "file_extension": ".py",
   "mimetype": "text/x-python",
   "name": "python",
   "nbconvert_exporter": "python",
   "pygments_lexer": "ipython3",
   "version": "3.7.0"
  }
 },
 "nbformat": 4,
 "nbformat_minor": 2
}
