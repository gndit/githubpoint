{
 "cells": [
  {
   "cell_type": "code",
   "execution_count": 4,
   "metadata": {},
   "outputs": [
    {
     "name": "stdout",
     "output_type": "stream",
     "text": [
      "Array With Rank 1: \n",
      " [1 2 3 4]\n",
      "Array With Rank 2: \n",
      " [[1 2 3 4]\n",
      " [9 8 7 6]]\n",
      "\n",
      "Array created using passed tuple :\n",
      " [3 5 6 7]\n"
     ]
    }
   ],
   "source": [
    "#python program for creating of array\n",
    "\n",
    "import numpy as np\n",
    "arr = np.array([1,2,3,4])\n",
    "print(\"Array With Rank 1: \\n\",arr)\n",
    "\n",
    "arr = np.array([[1,2,3,4],\n",
    "              [9,8,7,6]])\n",
    "print(\"Array With Rank 2: \\n\",arr)\n",
    "\n",
    "\n",
    "#creating an array from tuple\n",
    "\n",
    "arr = np.array((3,5,6,7))\n",
    "print(\"\\nArray created using \"\n",
    "     \"passed tuple :\\n\",arr)"
   ]
  },
  {
   "cell_type": "code",
   "execution_count": 20,
   "metadata": {},
   "outputs": [
    {
     "ename": "IndentationError",
     "evalue": "unexpected indent (<ipython-input-20-56f82ddc2b71>, line 3)",
     "output_type": "error",
     "traceback": [
      "\u001b[0;36m  File \u001b[0;32m\"<ipython-input-20-56f82ddc2b71>\"\u001b[0;36m, line \u001b[0;32m3\u001b[0m\n\u001b[0;31m    import numpy as np\u001b[0m\n\u001b[0m    ^\u001b[0m\n\u001b[0;31mIndentationError\u001b[0m\u001b[0;31m:\u001b[0m unexpected indent\n"
     ]
    }
   ],
   "source": [
    "  #  ****Accessing the array index*****\n",
    "    #indexing in nump\n",
    "    import numpy as np\n",
    "    arr = np.array([[1,2,3,4],\n",
    "                    [12,3,45,6],\n",
    "                    [1,2,4,5],\n",
    "                    [2,5,6,7]])\n",
    "    \n",
    "    print(\"Initial array:\")\n",
    "    print(arr)\n",
    "    \n",
    "    \n",
    "    \n",
    "    #printing a range of array\n",
    "    sliced_arr=arr[:2,::2]\n",
    "    print(\"Array with first 2 row and columns alternate columns(0 nad 2):\\n\",sliced_arr)\n",
    "    \n",
    "    \n",
    "    index_arr=arr[[1,2,1,3],\n",
    "                 [2,3,45,6]]\n",
    "    print(\"\\n element at indices (1,2),(2,3),(1,45),(3,6):\\n\",index_arr)\n",
    "                "
   ]
  },
  {
   "cell_type": "code",
   "execution_count": 25,
   "metadata": {},
   "outputs": [
    {
     "name": "stdout",
     "output_type": "stream",
     "text": [
      "adding 1 to every element : [[2 3]\n",
      " [4 5]]\n",
      "subtracting 2 element to each element : [[0 3]\n",
      " [4 1]]\n",
      "\n",
      " Sum of all array element is : 10\n",
      "\n",
      "Array sum :\n",
      " [[3 7]\n",
      " [9 7]]\n",
      "array is of type <class 'numpy.ndarray'>\n",
      "\n",
      " no.of dimention 2\n",
      "\n",
      " shape of array  (2, 2)\n",
      "\n",
      " size of array 4\n",
      "Array stores element of type int64\n"
     ]
    }
   ],
   "source": [
    "#basic operation  on single array\n",
    "import numpy as np\n",
    "a = np.array([[1,2],\n",
    "            [3,4]])\n",
    "b= np.array([[2,5],\n",
    "           [6,3]])\n",
    "#adding 1 to every element\n",
    "print(\"adding 1 to every element :\",a+1)\n",
    "print(\"subtracting 2 element to each element :\",b-2)\n",
    "\n",
    "\n",
    "#sum of element\n",
    "#Performing Unary operations\n",
    "print(\"\\n Sum of all array element is :\",a.sum())\n",
    "\n",
    "\n",
    "#Adding two arrays\n",
    "#performing binary operations\n",
    "print(\"\\nArray sum :\\n\",a+b)\n",
    "\n",
    "print(\"array is of type\",type(a))\n",
    "\n",
    "print(\"\\n no.of dimention\",a.ndim)\n",
    "\n",
    "print(\"\\n shape of array \",a.shape)\n",
    "print(\"\\n size of array\",b.size)\n",
    "\n",
    "print(\"Array stores element of type\",b.dtype)\n",
    "\n",
    "\n",
    "\n"
   ]
  }
 ],
 "metadata": {
  "kernelspec": {
   "display_name": "Python 3",
   "language": "python",
   "name": "python3"
  },
  "language_info": {
   "codemirror_mode": {
    "name": "ipython",
    "version": 3
   },
   "file_extension": ".py",
   "mimetype": "text/x-python",
   "name": "python",
   "nbconvert_exporter": "python",
   "pygments_lexer": "ipython3",
   "version": "3.7.0"
  }
 },
 "nbformat": 4,
 "nbformat_minor": 2
}
