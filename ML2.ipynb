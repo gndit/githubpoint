{
 "cells": [
  {
   "cell_type": "code",
   "execution_count": 1,
   "metadata": {},
   "outputs": [
    {
     "name": "stdout",
     "output_type": "stream",
     "text": [
      "1. square is = 1 and qube is = 1\n",
      "2. square is = 4 and qube is = 8\n",
      "3. square is = 9 and qube is = 27\n",
      "4. square is = 16 and qube is = 64\n",
      "5. square is = 25 and qube is = 125\n",
      "6. square is = 36 and qube is = 216\n",
      "7. square is = 49 and qube is = 343\n",
      "8. square is = 64 and qube is = 512\n",
      "9. square is = 81 and qube is = 729\n",
      "10. square is = 100 and qube is = 1000\n",
      "11. square is = 121 and qube is = 1331\n",
      "enter num1 12\n",
      "enter num2 12\n",
      "sum of two num is =  24\n"
     ]
    }
   ],
   "source": [
    "from mycode import *\n",
    "sum()"
   ]
  },
  {
   "cell_type": "code",
   "execution_count": 2,
   "metadata": {},
   "outputs": [
    {
     "name": "stdout",
     "output_type": "stream",
     "text": [
      "enter first num =12\n",
      "enter second num =2\n",
      "sub is = 10\n"
     ]
    }
   ],
   "source": [
    "v = sub()\n",
    "print(\"sub is =\",v)"
   ]
  },
  {
   "cell_type": "code",
   "execution_count": 3,
   "metadata": {
    "scrolled": true
   },
   "outputs": [
    {
     "name": "stdout",
     "output_type": "stream",
     "text": [
      "multiplication is = 69\n"
     ]
    }
   ],
   "source": [
    "multi(23,3)"
   ]
  },
  {
   "cell_type": "code",
   "execution_count": 4,
   "metadata": {
    "scrolled": true
   },
   "outputs": [
    {
     "name": "stdout",
     "output_type": "stream",
     "text": [
      "division is = 50.0\n"
     ]
    }
   ],
   "source": [
    "d = divide(100,2)\n",
    "print(\"division is =\",d)"
   ]
  },
  {
   "cell_type": "code",
   "execution_count": null,
   "metadata": {},
   "outputs": [],
   "source": [
    "\n",
    "        "
   ]
  },
  {
   "cell_type": "code",
   "execution_count": null,
   "metadata": {},
   "outputs": [
    {
     "name": "stdout",
     "output_type": "stream",
     "text": [
      "sorry try again\n"
     ]
    }
   ],
   "source": [
    "\n",
    "while True:\n",
    "    print(\"sorry try again\")\n",
    "    name = input()\n",
    "    if name is \"atul\":\n",
    "        continue\n",
    "    print(\"hello atul what is your password ****86\")\n",
    "    pasw = input()\n",
    "    if pasw == \"atul86\":\n",
    "        break\n",
    "print(\"WELCOME\")"
   ]
  },
  {
   "cell_type": "code",
   "execution_count": null,
   "metadata": {},
   "outputs": [],
   "source": []
  }
 ],
 "metadata": {
  "kernelspec": {
   "display_name": "Python 3",
   "language": "python",
   "name": "python3"
  },
  "language_info": {
   "codemirror_mode": {
    "name": "ipython",
    "version": 3
   },
   "file_extension": ".py",
   "mimetype": "text/x-python",
   "name": "python",
   "nbconvert_exporter": "python",
   "pygments_lexer": "ipython3",
   "version": "3.7.0"
  }
 },
 "nbformat": 4,
 "nbformat_minor": 2
}
