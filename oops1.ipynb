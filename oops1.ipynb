{
 "cells": [
  {
   "cell_type": "code",
   "execution_count": 2,
   "metadata": {},
   "outputs": [
    {
     "name": "stdout",
     "output_type": "stream",
     "text": [
      "akash 123\n"
     ]
    }
   ],
   "source": [
    "#classes\n",
    "class myclass:\n",
    "    num=0\n",
    "    name=\"noname\"\n",
    "def main():\n",
    "    me=myclass()\n",
    "    me.num=123\n",
    "    me.name=\"akash\"\n",
    "    print(me.name + \" \" + str(me.num))\n",
    "if __name__==\"__main__\":\n",
    "    main()"
   ]
  },
  {
   "cell_type": "code",
   "execution_count": null,
   "metadata": {},
   "outputs": [],
   "source": []
  },
  {
   "cell_type": "code",
   "execution_count": 3,
   "metadata": {},
   "outputs": [
    {
     "name": "stdout",
     "output_type": "stream",
     "text": [
      "2\n",
      "7\n"
     ]
    },
    {
     "ename": "AttributeError",
     "evalue": "'Myclass' object has no attribute '__hiddenvariable'",
     "output_type": "error",
     "traceback": [
      "\u001b[0;31m---------------------------------------------------------------------------\u001b[0m",
      "\u001b[0;31mAttributeError\u001b[0m                            Traceback (most recent call last)",
      "\u001b[0;32m<ipython-input-3-cdf902440df2>\u001b[0m in \u001b[0;36m<module>\u001b[0;34m()\u001b[0m\n\u001b[1;32m     10\u001b[0m \u001b[0mmyobj\u001b[0m\u001b[0;34m.\u001b[0m\u001b[0madd\u001b[0m\u001b[0;34m(\u001b[0m\u001b[0;36m5\u001b[0m\u001b[0;34m)\u001b[0m\u001b[0;34m\u001b[0m\u001b[0m\n\u001b[1;32m     11\u001b[0m \u001b[0;34m\u001b[0m\u001b[0m\n\u001b[0;32m---> 12\u001b[0;31m \u001b[0mprint\u001b[0m\u001b[0;34m(\u001b[0m\u001b[0mmyobj\u001b[0m\u001b[0;34m.\u001b[0m\u001b[0m__hiddenvariable\u001b[0m\u001b[0;34m)\u001b[0m\u001b[0;34m\u001b[0m\u001b[0m\n\u001b[0m",
      "\u001b[0;31mAttributeError\u001b[0m: 'Myclass' object has no attribute '__hiddenvariable'"
     ]
    }
   ],
   "source": [
    "#Data hiding\n",
    "\n",
    "class Myclass:\n",
    "    __hiddenvariable = 0\n",
    "    def add(self, increment):\n",
    "        self.__hiddenvariable +=increment\n",
    "        print(self.__hiddenvariable)\n",
    "myobj=Myclass()\n",
    "myobj.add(2)\n",
    "myobj.add(5)\n",
    "\n",
    "print(myobj.__hiddenvariable)"
   ]
  },
  {
   "cell_type": "code",
   "execution_count": 4,
   "metadata": {},
   "outputs": [
    {
     "name": "stdout",
     "output_type": "stream",
     "text": [
      "50\n"
     ]
    }
   ],
   "source": [
    "#accessing hiddenvarible\n",
    "class Myclass:\n",
    "    __hidden =50\n",
    "    \n",
    "#driver code\n",
    "myobj = Myclass()\n",
    "print(myobj._Myclass__hidden)"
   ]
  },
  {
   "cell_type": "code",
   "execution_count": 4,
   "metadata": {},
   "outputs": [
    {
     "name": "stdout",
     "output_type": "stream",
     "text": [
      "x: 4 ,y: 3\n"
     ]
    }
   ],
   "source": [
    "#methods\n",
    "class vector:\n",
    "    x=0.0\n",
    "    y=0.0\n",
    "    \n",
    "    def set(self,x,y):\n",
    "        self.x=x\n",
    "        self.y=y\n",
    "def main():\n",
    "    v=vector()\n",
    "    v.set(4,3)\n",
    "    print(\"x: \" + str(v.x) + \" ,y: \" + str(v.y))\n",
    "if __name__ ==\"__main__\":\n",
    "    main()"
   ]
  },
  {
   "cell_type": "code",
   "execution_count": 6,
   "metadata": {},
   "outputs": [
    {
     "name": "stdout",
     "output_type": "stream",
     "text": [
      "l\n",
      "e\n",
      "t\n",
      "a\n",
      "p\n",
      "l\n",
      "u\n",
      "t\n",
      "a\n"
     ]
    }
   ],
   "source": [
    "#iterator\n",
    "class Reverse:\n",
    "    def __init__(self,data):\n",
    "        self.data=data\n",
    "        self.index=len(data)\n",
    "        \n",
    "    def __iter__(self):\n",
    "        return self\n",
    "    \n",
    "    \n",
    "    def __next__(self):\n",
    "        if self.index ==0:\n",
    "            raise StopIteration\n",
    "        self.index-=1\n",
    "        \n",
    "        return self.data[self.index]\n",
    "def Main():\n",
    "    rev =Reverse('atulpatel')\n",
    "    for char in rev:\n",
    "        print(char)\n",
    "if __name__=='__main__':\n",
    "    Main()"
   ]
  },
  {
   "cell_type": "code",
   "execution_count": 8,
   "metadata": {},
   "outputs": [
    {
     "name": "stdout",
     "output_type": "stream",
     "text": [
      "a\n",
      "m\n",
      "r\n",
      "a\n",
      "h\n",
      "s\n",
      "y\n",
      "a\n",
      "h\n",
      "s\n",
      "a\n",
      "k\n",
      "a\n",
      "l\n",
      "['a', 'm', 'r', 'a', 'h', 's', 'y', 'a', 'h', 's', 'a', 'k', 'a', 'l']\n"
     ]
    }
   ],
   "source": [
    "#generators\n",
    "def Reverse(data):\n",
    "    for index in range(len(data)-1,-1,-1):\n",
    "        yield data[index]\n",
    "        \n",
    "def Main():\n",
    "    rev=Reverse('lakashaysharma')\n",
    "    for char in rev:\n",
    "        print(char)\n",
    "    data ='lakashaysharma'\n",
    "    print(list(data[i] for i in range(len(data)-1,-1,-1)))\n",
    "if __name__=='__main__':\n",
    "    Main()\n",
    "    "
   ]
  }
 ],
 "metadata": {
  "kernelspec": {
   "display_name": "Python 3",
   "language": "python",
   "name": "python3"
  },
  "language_info": {
   "codemirror_mode": {
    "name": "ipython",
    "version": 3
   },
   "file_extension": ".py",
   "mimetype": "text/x-python",
   "name": "python",
   "nbconvert_exporter": "python",
   "pygments_lexer": "ipython3",
   "version": "3.7.0"
  }
 },
 "nbformat": 4,
 "nbformat_minor": 2
}
