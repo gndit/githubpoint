{
 "cells": [
  {
   "cell_type": "code",
   "execution_count": 7,
   "metadata": {},
   "outputs": [
    {
     "name": "stdout",
     "output_type": "stream",
     "text": [
      "enter your nameatul\n",
      "enter your passwordat@86\n",
      "welcome\n"
     ]
    }
   ],
   "source": [
    "name=\"atul\"\n",
    "password=\"at@86\"\n",
    "user_name=input(\"enter your name\")\n",
    "user_password=input(\"enter your password\")\n",
    "if name==user_name and password==user_password:\n",
    "    print(\"welcome\")\n",
    "else:\n",
    "    print(\"user name or password incorrect\")"
   ]
  },
  {
   "cell_type": "code",
   "execution_count": null,
   "metadata": {},
   "outputs": [],
   "source": [
    "\n"
   ]
  },
  {
   "cell_type": "code",
   "execution_count": null,
   "metadata": {},
   "outputs": [],
   "source": []
  }
 ],
 "metadata": {
  "kernelspec": {
   "display_name": "Python 3",
   "language": "python",
   "name": "python3"
  },
  "language_info": {
   "codemirror_mode": {
    "name": "ipython",
    "version": 3
   },
   "file_extension": ".py",
   "mimetype": "text/x-python",
   "name": "python",
   "nbconvert_exporter": "python",
   "pygments_lexer": "ipython3",
   "version": "3.7.0"
  }
 },
 "nbformat": 4,
 "nbformat_minor": 2
}
